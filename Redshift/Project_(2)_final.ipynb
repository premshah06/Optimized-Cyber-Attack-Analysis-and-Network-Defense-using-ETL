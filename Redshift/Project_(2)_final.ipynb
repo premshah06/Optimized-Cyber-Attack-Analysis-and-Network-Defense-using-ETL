{
 "cells": [
  {
   "cell_type": "code",
   "execution_count": 1,
   "id": "a001a371-0f81-4d31-ba46-91764105ae59",
   "metadata": {
    "id": "a001a371-0f81-4d31-ba46-91764105ae59"
   },
   "outputs": [],
   "source": [
    "import pandas as pd\n",
    "import numpy as np\n",
    "import datetime as dt"
   ]
  },
  {
   "cell_type": "code",
   "execution_count": 2,
   "id": "f39f5fad-8a1d-4ea7-a12e-df329a3bdc46",
   "metadata": {
    "colab": {
     "base_uri": "https://localhost:8080/"
    },
    "id": "f39f5fad-8a1d-4ea7-a12e-df329a3bdc46",
    "outputId": "1689b426-879d-4063-fe43-58fe43478d46"
   },
   "outputs": [
    {
     "data": {
      "text/plain": [
       "'/Users/mayankkapadia/Downloads'"
      ]
     },
     "execution_count": 2,
     "metadata": {},
     "output_type": "execute_result"
    }
   ],
   "source": [
    "pwd"
   ]
  },
  {
   "cell_type": "code",
   "execution_count": 3,
   "id": "bf48a83f-0585-4d0b-b018-ae2e611166d6",
   "metadata": {
    "colab": {
     "base_uri": "https://localhost:8080/"
    },
    "id": "bf48a83f-0585-4d0b-b018-ae2e611166d6",
    "outputId": "e06d41a3-78ee-4a58-e712-beea869bbdf9"
   },
   "outputs": [
    {
     "name": "stdout",
     "output_type": "stream",
     "text": [
      "Flow Bytes/s\n",
      "False    445909\n",
      "Name: count, dtype: int64\n",
      "Flow Bytes/s\n",
      "False    225745\n",
      "Name: count, dtype: int64\n",
      "Flow Bytes/s\n",
      "False    286467\n",
      "Name: count, dtype: int64\n",
      "Flow Bytes/s\n",
      "False    286467\n",
      "Name: count, dtype: int64\n",
      "Flow Bytes/s\n",
      "False    529918\n",
      "Name: count, dtype: int64\n",
      "Flow Bytes/s\n",
      "False    288602\n",
      "Name: count, dtype: int64\n",
      "Flow Bytes/s\n",
      "False    445909\n",
      "Name: count, dtype: int64\n",
      "Flow Bytes/s\n",
      "False    692703\n",
      "Name: count, dtype: int64\n"
     ]
    }
   ],
   "source": [
    "list_of_csv=['Tuesday-WorkingHours.pcap_ISCX.csv','Friday-WorkingHours-Afternoon-DDos.pcap_ISCX.csv','Friday-WorkingHours-Afternoon-PortScan.pcap_ISCX.csv','Friday-WorkingHours-Afternoon-PortScan.pcap_ISCX.csv','Monday-WorkingHours.pcap_ISCX.csv','Thursday-WorkingHours-Afternoon-Infilteration.pcap_ISCX.csv','Tuesday-WorkingHours.pcap_ISCX.csv','Wednesday-workingHours.pcap_ISCX.csv']\n",
    "combined_df=pd.DataFrame()\n",
    "l=[]\n",
    "for x in list_of_csv:\n",
    "    df=pd.read_csv(x, on_bad_lines='skip')\n",
    "    median_values_each_class=df.groupby(' Label')['Flow Bytes/s'].median().reset_index()\n",
    "    median_values_each_class.columns=['Label','Median']\n",
    "    median_values_each_class.set_index('Label',inplace=True)\n",
    "    median_mapping=median_values_each_class.to_dict()\n",
    "    df['Flow Bytes/s']=df['Flow Bytes/s'].fillna(df[' Label'].map(median_mapping['Median']))\n",
    "    print(df['Flow Bytes/s'].isnull().value_counts())\n",
    "    l.append(df)\n",
    "combined_df = pd.concat(l, ignore_index=True)"
   ]
  },
  {
   "cell_type": "code",
   "execution_count": 4,
   "id": "6f954a48-aed7-4f5d-b84e-4164d356898b",
   "metadata": {
    "colab": {
     "base_uri": "https://localhost:8080/",
     "height": 141
    },
    "id": "6f954a48-aed7-4f5d-b84e-4164d356898b",
    "outputId": "1d930696-147d-448f-fcef-79d01b8e540f"
   },
   "outputs": [],
   "source": [
    "combined_df.to_csv('modified_daata.csv',index=False)"
   ]
  },
  {
   "cell_type": "code",
   "execution_count": 5,
   "id": "aSBB9LiMmj4L",
   "metadata": {
    "id": "aSBB9LiMmj4L"
   },
   "outputs": [],
   "source": [
    "import pandas as pd"
   ]
  },
  {
   "cell_type": "code",
   "execution_count": 2,
   "id": "8bc74e09-c8ab-4c0f-976a-c25ad3bf85ff",
   "metadata": {
    "id": "8bc74e09-c8ab-4c0f-976a-c25ad3bf85ff"
   },
   "outputs": [],
   "source": [
    "df=pd.read_csv('/Users/mayankkapadia/Downloads/modified_daata.csv')"
   ]
  },
  {
   "cell_type": "code",
   "execution_count": null,
   "id": "d93329a2",
   "metadata": {},
   "outputs": [],
   "source": [
    "df[' Label'].unique()"
   ]
  },
  {
   "cell_type": "code",
   "execution_count": 4,
   "id": "A72KgAik3K-u",
   "metadata": {
    "colab": {
     "base_uri": "https://localhost:8080/"
    },
    "id": "A72KgAik3K-u",
    "outputId": "b2bc33a5-300a-4974-a817-e2952445a65a"
   },
   "outputs": [],
   "source": [
    "df[' Timestamp']=pd.to_datetime(df[' Timestamp'], errors='coerce',infer_datetime_format=True)"
   ]
  },
  {
   "cell_type": "code",
   "execution_count": 5,
   "id": "58756182",
   "metadata": {},
   "outputs": [
    {
     "data": {
      "text/plain": [
       "3201720"
      ]
     },
     "execution_count": 5,
     "metadata": {},
     "output_type": "execute_result"
    }
   ],
   "source": [
    "len(df)"
   ]
  },
  {
   "cell_type": "code",
   "execution_count": 6,
   "id": "HMadSZ3n3PDG",
   "metadata": {
    "id": "HMadSZ3n3PDG"
   },
   "outputs": [],
   "source": [
    "df[' Timestamp']=df[' Timestamp'].dt.strftime('%Y-%m-%d %H:%M:%S')"
   ]
  },
  {
   "cell_type": "code",
   "execution_count": 7,
   "id": "c202c33c",
   "metadata": {
    "scrolled": true
   },
   "outputs": [
    {
     "data": {
      "text/plain": [
       "False    2671802\n",
       "True      529918\n",
       "Name:  Timestamp, dtype: int64"
      ]
     },
     "execution_count": 7,
     "metadata": {},
     "output_type": "execute_result"
    }
   ],
   "source": [
    "df[' Timestamp'].isnull().value_counts()"
   ]
  },
  {
   "cell_type": "code",
   "execution_count": 8,
   "id": "6d4ad54a",
   "metadata": {},
   "outputs": [],
   "source": [
    "df=df.dropna()"
   ]
  },
  {
   "cell_type": "code",
   "execution_count": 9,
   "id": "4twAZzQHmnyq",
   "metadata": {
    "colab": {
     "base_uri": "https://localhost:8080/"
    },
    "id": "4twAZzQHmnyq",
    "outputId": "0ed32b90-f2fc-43ff-9d85-9e2ae5681cfe"
   },
   "outputs": [
    {
     "data": {
      "text/plain": [
       "1485"
      ]
     },
     "execution_count": 9,
     "metadata": {},
     "output_type": "execute_result"
    }
   ],
   "source": [
    "len(df[' Timestamp'].unique())"
   ]
  },
  {
   "cell_type": "code",
   "execution_count": 10,
   "id": "fd3adf1a-b9ed-4a0c-b491-c42de840586e",
   "metadata": {
    "colab": {
     "base_uri": "https://localhost:8080/"
    },
    "id": "fd3adf1a-b9ed-4a0c-b491-c42de840586e",
    "outputId": "e830b555-ec7c-4731-8618-6d334c11bd17"
   },
   "outputs": [
    {
     "data": {
      "text/plain": [
       "13485"
      ]
     },
     "execution_count": 10,
     "metadata": {},
     "output_type": "execute_result"
    }
   ],
   "source": [
    "len(df[' Source IP'].unique())"
   ]
  },
  {
   "cell_type": "code",
   "execution_count": 11,
   "id": "54dabf18-56d0-4d24-8edf-1abd7d7e5f45",
   "metadata": {
    "colab": {
     "base_uri": "https://localhost:8080/"
    },
    "id": "54dabf18-56d0-4d24-8edf-1abd7d7e5f45",
    "outputId": "882ea87f-fbda-4770-aafb-2f95dd14ae1f"
   },
   "outputs": [
    {
     "data": {
      "text/plain": [
       "2671802"
      ]
     },
     "execution_count": 11,
     "metadata": {},
     "output_type": "execute_result"
    }
   ],
   "source": [
    "len(df)"
   ]
  },
  {
   "cell_type": "code",
   "execution_count": 12,
   "id": "7c73789a-20e9-42b3-a0ad-cb1d2146da28",
   "metadata": {
    "id": "7c73789a-20e9-42b3-a0ad-cb1d2146da28"
   },
   "outputs": [],
   "source": [
    "source_df=df[[' Source IP',' Source Port']]\n",
    "source_df=source_df.drop_duplicates()"
   ]
  },
  {
   "cell_type": "code",
   "execution_count": 13,
   "id": "3945e374-dcfd-4e7f-a446-e3fc329baf14",
   "metadata": {
    "colab": {
     "base_uri": "https://localhost:8080/"
    },
    "id": "3945e374-dcfd-4e7f-a446-e3fc329baf14",
    "outputId": "80d8a7f1-0ccd-4ca9-8b53-3c1c3d718739"
   },
   "outputs": [
    {
     "name": "stdout",
     "output_type": "stream",
     "text": [
      "<class 'pandas.core.frame.DataFrame'>\n",
      "Int64Index: 372053 entries, 0 to 3201709\n",
      "Data columns (total 2 columns):\n",
      " #   Column        Non-Null Count   Dtype \n",
      "---  ------        --------------   ----- \n",
      " 0    Source IP    372053 non-null  object\n",
      " 1    Source Port  372053 non-null  int64 \n",
      "dtypes: int64(1), object(1)\n",
      "memory usage: 8.5+ MB\n"
     ]
    }
   ],
   "source": [
    "source_df.info()"
   ]
  },
  {
   "cell_type": "code",
   "execution_count": 14,
   "id": "7f50d9ac-6cf1-40be-a807-0f84eff1f4ec",
   "metadata": {
    "id": "7f50d9ac-6cf1-40be-a807-0f84eff1f4ec"
   },
   "outputs": [],
   "source": [
    "source_df[' Source Port']=source_df[' Source Port'].astype(str)"
   ]
  },
  {
   "cell_type": "code",
   "execution_count": 15,
   "id": "c3f597af-e152-4c23-82f9-1796519fe5e1",
   "metadata": {
    "id": "c3f597af-e152-4c23-82f9-1796519fe5e1"
   },
   "outputs": [],
   "source": [
    "source_df['surrogate_key'] = range(1, len(source_df) + 1)\n",
    "source_df['source_ip_prt']=source_df[' Source IP']+':'+source_df[' Source Port']"
   ]
  },
  {
   "cell_type": "code",
   "execution_count": 16,
   "id": "401d249a-effa-4421-87ef-9b0692b54b7c",
   "metadata": {
    "colab": {
     "base_uri": "https://localhost:8080/"
    },
    "id": "401d249a-effa-4421-87ef-9b0692b54b7c",
    "outputId": "05a3cef8-1ab4-43cd-c14b-00c6a83c4731"
   },
   "outputs": [
    {
     "data": {
      "text/plain": [
       "372053"
      ]
     },
     "execution_count": 16,
     "metadata": {},
     "output_type": "execute_result"
    }
   ],
   "source": [
    "len(source_df['surrogate_key'].unique())"
   ]
  },
  {
   "cell_type": "code",
   "execution_count": 17,
   "id": "067e2bc0-4bff-442e-a8fe-57d70fb3fe28",
   "metadata": {
    "colab": {
     "base_uri": "https://localhost:8080/"
    },
    "id": "067e2bc0-4bff-442e-a8fe-57d70fb3fe28",
    "outputId": "83707d09-7db2-43b1-fd8b-b8ef258259e9"
   },
   "outputs": [
    {
     "data": {
      "text/plain": [
       "Index([' Source IP', ' Source Port', 'surrogate_key', 'source_ip_prt'], dtype='object')"
      ]
     },
     "execution_count": 17,
     "metadata": {},
     "output_type": "execute_result"
    }
   ],
   "source": [
    "source_df.columns"
   ]
  },
  {
   "cell_type": "code",
   "execution_count": 18,
   "id": "17254796-b8d1-4cc6-9663-231762fa0fba",
   "metadata": {
    "id": "17254796-b8d1-4cc6-9663-231762fa0fba"
   },
   "outputs": [],
   "source": [
    "source_df.to_csv('Source_IP.csv',index=False)"
   ]
  },
  {
   "cell_type": "code",
   "execution_count": 19,
   "id": "2d243cac-1fd5-4940-867c-c9a6e7521255",
   "metadata": {
    "id": "2d243cac-1fd5-4940-867c-c9a6e7521255"
   },
   "outputs": [],
   "source": [
    "destination_df=df[[' Destination IP',' Destination Port']]\n",
    "destination_df=destination_df.drop_duplicates()"
   ]
  },
  {
   "cell_type": "code",
   "execution_count": 20,
   "id": "76ac24a3-d9f7-4945-8997-dee88036f014",
   "metadata": {
    "id": "76ac24a3-d9f7-4945-8997-dee88036f014"
   },
   "outputs": [],
   "source": [
    "destination_df[' Destination Port']=destination_df[' Destination Port'].astype(str)"
   ]
  },
  {
   "cell_type": "code",
   "execution_count": 21,
   "id": "7be5d31d-8cbe-4575-9b20-f172ff6e91d6",
   "metadata": {
    "id": "7be5d31d-8cbe-4575-9b20-f172ff6e91d6"
   },
   "outputs": [],
   "source": [
    "destination_df['surrogate_key'] = range(1, len(destination_df) + 1)\n",
    "destination_df['dest_ip_port']=destination_df[' Destination IP']+\":\"+destination_df[' Destination Port']\n",
    "destination_df.to_csv('Destination_IP.csv',index=False)"
   ]
  },
  {
   "cell_type": "code",
   "execution_count": 22,
   "id": "51668b10",
   "metadata": {},
   "outputs": [],
   "source": [
    "import hashlib"
   ]
  },
  {
   "cell_type": "code",
   "execution_count": 23,
   "id": "2547981c-86bb-436f-b431-af81ffc9ff6d",
   "metadata": {
    "id": "2547981c-86bb-436f-b431-af81ffc9ff6d"
   },
   "outputs": [],
   "source": [
    "flow_df=df[['Flow ID',' Flow Duration','Flow Bytes/s',' Flow Packets/s', ' Flow IAT Mean',' Fwd IAT Std',' Fwd IAT Max', ' Fwd IAT Min']]\n",
    "flow_df=flow_df.drop_duplicates()\n",
    "def generate_hash(row):\n",
    "    # Convert the row to a string representation\n",
    "    row_str = str(tuple(row.values))\n",
    "    # Generate a hash using SHA256\n",
    "    hash_object = hashlib.sha256(row_str.encode())\n",
    "    return hash_object.hexdigest()\n",
    "\n",
    "# Apply the hash function to create a new 'Merged_Col'\n",
    "flow_df['Merged_Col'] = flow_df.apply(generate_hash, axis=1)"
   ]
  },
  {
   "cell_type": "code",
   "execution_count": 24,
   "id": "b1dccecc-3ae9-4172-b6df-36a4f181eeaf",
   "metadata": {
    "id": "b1dccecc-3ae9-4172-b6df-36a4f181eeaf"
   },
   "outputs": [],
   "source": [
    "flow_df['surrogate_key'] = range(1, len(flow_df) + 1)\n"
   ]
  },
  {
   "cell_type": "code",
   "execution_count": 25,
   "id": "I8dH5izzxhmi",
   "metadata": {
    "colab": {
     "base_uri": "https://localhost:8080/"
    },
    "id": "I8dH5izzxhmi",
    "outputId": "89359448-6a9f-4eec-d1f5-96a7d9166430"
   },
   "outputs": [
    {
     "data": {
      "text/plain": [
       "1921280"
      ]
     },
     "execution_count": 25,
     "metadata": {},
     "output_type": "execute_result"
    }
   ],
   "source": [
    "len(flow_df['Merged_Col'].unique())"
   ]
  },
  {
   "cell_type": "code",
   "execution_count": 26,
   "id": "kopP09AzoXPj",
   "metadata": {
    "colab": {
     "base_uri": "https://localhost:8080/"
    },
    "id": "kopP09AzoXPj",
    "outputId": "23eea817-e6b8-4eb7-bf71-a27817987189"
   },
   "outputs": [
    {
     "data": {
      "text/plain": [
       "1921280"
      ]
     },
     "execution_count": 26,
     "metadata": {},
     "output_type": "execute_result"
    }
   ],
   "source": [
    "len(flow_df)"
   ]
  },
  {
   "cell_type": "code",
   "execution_count": 27,
   "id": "BTUxtxO-zePK",
   "metadata": {
    "colab": {
     "base_uri": "https://localhost:8080/"
    },
    "id": "BTUxtxO-zePK",
    "outputId": "74df0874-da3b-4b68-871d-dbfa5a0f91eb"
   },
   "outputs": [
    {
     "name": "stdout",
     "output_type": "stream",
     "text": [
      "<class 'pandas.core.frame.DataFrame'>\n",
      "Int64Index: 1921280 entries, 0 to 3201719\n",
      "Data columns (total 10 columns):\n",
      " #   Column           Dtype  \n",
      "---  ------           -----  \n",
      " 0   Flow ID          object \n",
      " 1    Flow Duration   int64  \n",
      " 2   Flow Bytes/s     float64\n",
      " 3    Flow Packets/s  float64\n",
      " 4    Flow IAT Mean   float64\n",
      " 5    Fwd IAT Std     float64\n",
      " 6    Fwd IAT Max     float64\n",
      " 7    Fwd IAT Min     float64\n",
      " 8   Merged_Col       object \n",
      " 9   surrogate_key    int64  \n",
      "dtypes: float64(6), int64(2), object(2)\n",
      "memory usage: 161.2+ MB\n"
     ]
    }
   ],
   "source": [
    "flow_df.info()"
   ]
  },
  {
   "cell_type": "code",
   "execution_count": 28,
   "id": "NQ4iBF_SxwDf",
   "metadata": {
    "id": "NQ4iBF_SxwDf"
   },
   "outputs": [],
   "source": [
    "flow_df.to_csv('Flow.csv',index=False)"
   ]
  },
  {
   "cell_type": "code",
   "execution_count": 29,
   "id": "f3e98e97",
   "metadata": {},
   "outputs": [],
   "source": [
    "df[' Total Fwd Packets']=df[' Total Fwd Packets'].astype(float)\n",
    "df[' Total Backward Packets']=df[' Total Backward Packets'].astype(float)"
   ]
  },
  {
   "cell_type": "code",
   "execution_count": 30,
   "id": "de0ce97e",
   "metadata": {},
   "outputs": [
    {
     "name": "stdout",
     "output_type": "stream",
     "text": [
      "<class 'pandas.core.frame.DataFrame'>\n",
      "Int64Index: 2671802 entries, 0 to 3201719\n",
      "Data columns (total 85 columns):\n",
      " #   Column                        Dtype  \n",
      "---  ------                        -----  \n",
      " 0   Flow ID                       object \n",
      " 1    Source IP                    object \n",
      " 2    Source Port                  int64  \n",
      " 3    Destination IP               object \n",
      " 4    Destination Port             int64  \n",
      " 5    Protocol                     int64  \n",
      " 6    Timestamp                    object \n",
      " 7    Flow Duration                int64  \n",
      " 8    Total Fwd Packets            float64\n",
      " 9    Total Backward Packets       float64\n",
      " 10  Total Length of Fwd Packets   float64\n",
      " 11   Total Length of Bwd Packets  float64\n",
      " 12   Fwd Packet Length Max        float64\n",
      " 13   Fwd Packet Length Min        float64\n",
      " 14   Fwd Packet Length Mean       float64\n",
      " 15   Fwd Packet Length Std        float64\n",
      " 16  Bwd Packet Length Max         float64\n",
      " 17   Bwd Packet Length Min        float64\n",
      " 18   Bwd Packet Length Mean       float64\n",
      " 19   Bwd Packet Length Std        float64\n",
      " 20  Flow Bytes/s                  float64\n",
      " 21   Flow Packets/s               float64\n",
      " 22   Flow IAT Mean                float64\n",
      " 23   Flow IAT Std                 float64\n",
      " 24   Flow IAT Max                 float64\n",
      " 25   Flow IAT Min                 float64\n",
      " 26  Fwd IAT Total                 float64\n",
      " 27   Fwd IAT Mean                 float64\n",
      " 28   Fwd IAT Std                  float64\n",
      " 29   Fwd IAT Max                  float64\n",
      " 30   Fwd IAT Min                  float64\n",
      " 31  Bwd IAT Total                 float64\n",
      " 32   Bwd IAT Mean                 float64\n",
      " 33   Bwd IAT Std                  float64\n",
      " 34   Bwd IAT Max                  float64\n",
      " 35   Bwd IAT Min                  float64\n",
      " 36  Fwd PSH Flags                 int64  \n",
      " 37   Bwd PSH Flags                int64  \n",
      " 38   Fwd URG Flags                int64  \n",
      " 39   Bwd URG Flags                int64  \n",
      " 40   Fwd Header Length            int64  \n",
      " 41   Bwd Header Length            int64  \n",
      " 42  Fwd Packets/s                 float64\n",
      " 43   Bwd Packets/s                float64\n",
      " 44   Min Packet Length            float64\n",
      " 45   Max Packet Length            float64\n",
      " 46   Packet Length Mean           float64\n",
      " 47   Packet Length Std            float64\n",
      " 48   Packet Length Variance       float64\n",
      " 49  FIN Flag Count                int64  \n",
      " 50   SYN Flag Count               int64  \n",
      " 51   RST Flag Count               int64  \n",
      " 52   PSH Flag Count               int64  \n",
      " 53   ACK Flag Count               int64  \n",
      " 54   URG Flag Count               int64  \n",
      " 55   CWE Flag Count               int64  \n",
      " 56   ECE Flag Count               int64  \n",
      " 57   Down/Up Ratio                float64\n",
      " 58   Average Packet Size          float64\n",
      " 59   Avg Fwd Segment Size         float64\n",
      " 60   Avg Bwd Segment Size         float64\n",
      " 61   Fwd Header Length.1          int64  \n",
      " 62  Fwd Avg Bytes/Bulk            int64  \n",
      " 63   Fwd Avg Packets/Bulk         int64  \n",
      " 64   Fwd Avg Bulk Rate            int64  \n",
      " 65   Bwd Avg Bytes/Bulk           int64  \n",
      " 66   Bwd Avg Packets/Bulk         int64  \n",
      " 67  Bwd Avg Bulk Rate             int64  \n",
      " 68  Subflow Fwd Packets           int64  \n",
      " 69   Subflow Fwd Bytes            int64  \n",
      " 70   Subflow Bwd Packets          int64  \n",
      " 71   Subflow Bwd Bytes            int64  \n",
      " 72  Init_Win_bytes_forward        int64  \n",
      " 73   Init_Win_bytes_backward      int64  \n",
      " 74   act_data_pkt_fwd             int64  \n",
      " 75   min_seg_size_forward         int64  \n",
      " 76  Active Mean                   float64\n",
      " 77   Active Std                   float64\n",
      " 78   Active Max                   float64\n",
      " 79   Active Min                   float64\n",
      " 80  Idle Mean                     float64\n",
      " 81   Idle Std                     float64\n",
      " 82   Idle Max                     float64\n",
      " 83   Idle Min                     float64\n",
      " 84   Label                        object \n",
      "dtypes: float64(47), int64(33), object(5)\n",
      "memory usage: 1.7+ GB\n"
     ]
    }
   ],
   "source": [
    "df.info()"
   ]
  },
  {
   "cell_type": "code",
   "execution_count": 31,
   "id": "3bbaa4af-f031-4894-959d-1500b19ead2a",
   "metadata": {
    "id": "3bbaa4af-f031-4894-959d-1500b19ead2a"
   },
   "outputs": [],
   "source": [
    "packet_df=df[[' Total Fwd Packets', ' Total Backward Packets',\n",
    "       'Total Length of Fwd Packets', ' Total Length of Bwd Packets',\n",
    "       ' Fwd Packet Length Max', ' Fwd Packet Length Min',\n",
    "       ' Fwd Packet Length Mean', ' Fwd Packet Length Std','Bwd Packet Length Max', ' Bwd Packet Length Min',\n",
    "       ' Bwd Packet Length Mean', ' Bwd Packet Length Std',' Min Packet Length', ' Max Packet Length',\n",
    "       ' Packet Length Mean', ' Packet Length Std', ' Packet Length Variance',' Average Packet Size']]\n",
    "packet_df=packet_df.drop_duplicates()\n",
    "def generate_hash(row):\n",
    "    # Convert the row to a string representation\n",
    "    row_str = str(tuple(row.values))\n",
    "    # Generate a hash using SHA256\n",
    "    hash_object = hashlib.sha256(row_str.encode())\n",
    "    return hash_object.hexdigest()\n",
    "\n",
    "# Apply the hash function to create a new 'Merged_Col'\n",
    "packet_df['Merged_Col'] = packet_df.apply(generate_hash, axis=1)"
   ]
  },
  {
   "cell_type": "code",
   "execution_count": 32,
   "id": "f4dd4daa",
   "metadata": {},
   "outputs": [],
   "source": [
    "import hashlib"
   ]
  },
  {
   "cell_type": "code",
   "execution_count": 34,
   "id": "e537706c-c36f-4487-8310-d77f68878070",
   "metadata": {
    "id": "e537706c-c36f-4487-8310-d77f68878070"
   },
   "outputs": [],
   "source": [
    "packet_df['surrogate_key'] = range(1, len(packet_df) + 1)\n",
    "packet_df.to_csv('Packet.csv',index=False)"
   ]
  },
  {
   "cell_type": "code",
   "execution_count": 35,
   "id": "Tk2mxjdspy3O",
   "metadata": {
    "colab": {
     "base_uri": "https://localhost:8080/"
    },
    "id": "Tk2mxjdspy3O",
    "outputId": "351902c4-0e4c-4a20-d4c5-d2a0ce96dd6c"
   },
   "outputs": [
    {
     "data": {
      "text/plain": [
       "299932"
      ]
     },
     "execution_count": 35,
     "metadata": {},
     "output_type": "execute_result"
    }
   ],
   "source": [
    "len(packet_df)"
   ]
  },
  {
   "cell_type": "code",
   "execution_count": 36,
   "id": "sWKZpm9xuR48",
   "metadata": {
    "colab": {
     "base_uri": "https://localhost:8080/"
    },
    "id": "sWKZpm9xuR48",
    "outputId": "521749c3-bb2c-49c1-990b-124be7979f22"
   },
   "outputs": [
    {
     "name": "stdout",
     "output_type": "stream",
     "text": [
      "<class 'pandas.core.frame.DataFrame'>\n",
      "Int64Index: 299932 entries, 0 to 3201713\n",
      "Data columns (total 20 columns):\n",
      " #   Column                        Non-Null Count   Dtype  \n",
      "---  ------                        --------------   -----  \n",
      " 0    Total Fwd Packets            299932 non-null  float64\n",
      " 1    Total Backward Packets       299932 non-null  float64\n",
      " 2   Total Length of Fwd Packets   299932 non-null  float64\n",
      " 3    Total Length of Bwd Packets  299932 non-null  float64\n",
      " 4    Fwd Packet Length Max        299932 non-null  float64\n",
      " 5    Fwd Packet Length Min        299932 non-null  float64\n",
      " 6    Fwd Packet Length Mean       299932 non-null  float64\n",
      " 7    Fwd Packet Length Std        299932 non-null  float64\n",
      " 8   Bwd Packet Length Max         299932 non-null  float64\n",
      " 9    Bwd Packet Length Min        299932 non-null  float64\n",
      " 10   Bwd Packet Length Mean       299932 non-null  float64\n",
      " 11   Bwd Packet Length Std        299932 non-null  float64\n",
      " 12   Min Packet Length            299932 non-null  float64\n",
      " 13   Max Packet Length            299932 non-null  float64\n",
      " 14   Packet Length Mean           299932 non-null  float64\n",
      " 15   Packet Length Std            299932 non-null  float64\n",
      " 16   Packet Length Variance       299932 non-null  float64\n",
      " 17   Average Packet Size          299932 non-null  float64\n",
      " 18  Merged_Col                    299932 non-null  object \n",
      " 19  surrogate_key                 299932 non-null  int64  \n",
      "dtypes: float64(18), int64(1), object(1)\n",
      "memory usage: 48.1+ MB\n"
     ]
    }
   ],
   "source": [
    "packet_df.info()"
   ]
  },
  {
   "cell_type": "code",
   "execution_count": 37,
   "id": "1yqaYOhZpimn",
   "metadata": {
    "colab": {
     "base_uri": "https://localhost:8080/"
    },
    "id": "1yqaYOhZpimn",
    "outputId": "0dfa6e1a-880e-4815-a360-933977e53975"
   },
   "outputs": [
    {
     "data": {
      "text/plain": [
       "299932"
      ]
     },
     "execution_count": 37,
     "metadata": {},
     "output_type": "execute_result"
    }
   ],
   "source": [
    "len(packet_df['Merged_Col'].unique())"
   ]
  },
  {
   "cell_type": "code",
   "execution_count": 38,
   "id": "60836f1a-ae97-4883-ba3e-971c2105f9de",
   "metadata": {
    "colab": {
     "base_uri": "https://localhost:8080/"
    },
    "id": "60836f1a-ae97-4883-ba3e-971c2105f9de",
    "outputId": "623151e2-464d-47e1-fbbf-cbef6ab5b239"
   },
   "outputs": [],
   "source": [
    "flag_df=df[['Fwd PSH Flags',\n",
    "       ' Bwd PSH Flags', ' Fwd URG Flags', ' Bwd URG Flags','FIN Flag Count', ' SYN Flag Count', ' RST Flag Count',\n",
    "       ' PSH Flag Count', ' ACK Flag Count', ' URG Flag Count',\n",
    "       ' CWE Flag Count', ' ECE Flag Count']]\n",
    "flag_df=flag_df.drop_duplicates()\n",
    "\n",
    "def generate_hash(row):\n",
    "    # Convert the row to a string representation\n",
    "    row_str = str(tuple(row.values))\n",
    "    # Generate a hash using SHA256\n",
    "    hash_object = hashlib.sha256(row_str.encode())\n",
    "    return hash_object.hexdigest()\n",
    "\n",
    "# Apply the hash function to create a new 'Merged_Col'\n",
    "flag_df['Merged_Col'] = flag_df.apply(generate_hash, axis=1)"
   ]
  },
  {
   "cell_type": "code",
   "execution_count": 39,
   "id": "6d09b49f-6396-4827-be8b-39ce21fa51a3",
   "metadata": {
    "id": "6d09b49f-6396-4827-be8b-39ce21fa51a3"
   },
   "outputs": [],
   "source": [
    "flag_df['surrogate_key'] = range(1, len(flag_df) + 1)\n",
    "flag_df.to_csv('Flag.csv',index=False)"
   ]
  },
  {
   "cell_type": "code",
   "execution_count": 40,
   "id": "rVpuVCiWyIh6",
   "metadata": {
    "colab": {
     "base_uri": "https://localhost:8080/"
    },
    "id": "rVpuVCiWyIh6",
    "outputId": "ad6592f8-1b63-45e0-af8c-cfbdbfa70fa3"
   },
   "outputs": [
    {
     "data": {
      "text/plain": [
       "14"
      ]
     },
     "execution_count": 40,
     "metadata": {},
     "output_type": "execute_result"
    }
   ],
   "source": [
    "len(flag_df['Merged_Col'].unique())"
   ]
  },
  {
   "cell_type": "code",
   "execution_count": 41,
   "id": "Kj3RLzVyyLsb",
   "metadata": {
    "colab": {
     "base_uri": "https://localhost:8080/"
    },
    "id": "Kj3RLzVyyLsb",
    "outputId": "b9ed334b-783b-45ca-8007-f04300983980"
   },
   "outputs": [
    {
     "data": {
      "text/plain": [
       "14"
      ]
     },
     "execution_count": 41,
     "metadata": {},
     "output_type": "execute_result"
    }
   ],
   "source": [
    "len(flag_df)"
   ]
  },
  {
   "cell_type": "code",
   "execution_count": 42,
   "id": "y9ZoAQYqyUvT",
   "metadata": {
    "id": "y9ZoAQYqyUvT"
   },
   "outputs": [],
   "source": [
    "flag_df.to_csv('Flag.csv',index=False)"
   ]
  },
  {
   "cell_type": "code",
   "execution_count": 43,
   "id": "WKpNX-rKyem7",
   "metadata": {
    "colab": {
     "base_uri": "https://localhost:8080/"
    },
    "id": "WKpNX-rKyem7",
    "outputId": "4518e0f8-b263-44c2-f738-d108277ca09d"
   },
   "outputs": [
    {
     "name": "stdout",
     "output_type": "stream",
     "text": [
      "<class 'pandas.core.frame.DataFrame'>\n",
      "Int64Index: 14 entries, 0 to 3127085\n",
      "Data columns (total 14 columns):\n",
      " #   Column           Non-Null Count  Dtype \n",
      "---  ------           --------------  ----- \n",
      " 0   Fwd PSH Flags    14 non-null     int64 \n",
      " 1    Bwd PSH Flags   14 non-null     int64 \n",
      " 2    Fwd URG Flags   14 non-null     int64 \n",
      " 3    Bwd URG Flags   14 non-null     int64 \n",
      " 4   FIN Flag Count   14 non-null     int64 \n",
      " 5    SYN Flag Count  14 non-null     int64 \n",
      " 6    RST Flag Count  14 non-null     int64 \n",
      " 7    PSH Flag Count  14 non-null     int64 \n",
      " 8    ACK Flag Count  14 non-null     int64 \n",
      " 9    URG Flag Count  14 non-null     int64 \n",
      " 10   CWE Flag Count  14 non-null     int64 \n",
      " 11   ECE Flag Count  14 non-null     int64 \n",
      " 12  Merged_Col       14 non-null     object\n",
      " 13  surrogate_key    14 non-null     int64 \n",
      "dtypes: int64(13), object(1)\n",
      "memory usage: 1.6+ KB\n"
     ]
    }
   ],
   "source": [
    "flag_df.info()"
   ]
  },
  {
   "cell_type": "code",
   "execution_count": 44,
   "id": "d7827459-9e0d-45f9-b009-9b506ea63a49",
   "metadata": {
    "id": "d7827459-9e0d-45f9-b009-9b506ea63a49"
   },
   "outputs": [],
   "source": [
    "protocol_df=df[[ ' Protocol']]\n",
    "protocol_df=protocol_df.drop_duplicates()"
   ]
  },
  {
   "cell_type": "code",
   "execution_count": 45,
   "id": "c1b3adf9-84d2-44c9-8bae-4bbc204ab22b",
   "metadata": {
    "id": "c1b3adf9-84d2-44c9-8bae-4bbc204ab22b"
   },
   "outputs": [],
   "source": [
    "protocol_df['Protocol Name']=['TCP','Reserved','UDP']"
   ]
  },
  {
   "cell_type": "code",
   "execution_count": 46,
   "id": "9bee9433-902b-46cd-826d-133be29ae9d1",
   "metadata": {
    "id": "9bee9433-902b-46cd-826d-133be29ae9d1"
   },
   "outputs": [],
   "source": [
    "protocol_df['Protocol Description']=[\"This is a connection-oriented protocol which ensures that the transmission or transfer of data between devices on the network takes place in a sequential manner and with controlled errors in a reliable way\",\"Some bits or fields in some network protocols - for example, the headers of IP packets-are set aside for future use or special purposes and shall not be altered during normal transmission\", \"This protocol is connectionless and therefore does not guarantee delivery, but it's faster and less reliable than TCP; it always finds its application when time is of essence, such as video playing or online gaming.\"]"
   ]
  },
  {
   "cell_type": "code",
   "execution_count": 47,
   "id": "c271c319-3d25-4019-903a-b965c9f78919",
   "metadata": {
    "colab": {
     "base_uri": "https://localhost:8080/",
     "height": 144
    },
    "id": "c271c319-3d25-4019-903a-b965c9f78919",
    "outputId": "4075772f-1906-4b7e-ed58-dbb3c577a510"
   },
   "outputs": [
    {
     "data": {
      "text/html": [
       "<div>\n",
       "<style scoped>\n",
       "    .dataframe tbody tr th:only-of-type {\n",
       "        vertical-align: middle;\n",
       "    }\n",
       "\n",
       "    .dataframe tbody tr th {\n",
       "        vertical-align: top;\n",
       "    }\n",
       "\n",
       "    .dataframe thead th {\n",
       "        text-align: right;\n",
       "    }\n",
       "</style>\n",
       "<table border=\"1\" class=\"dataframe\">\n",
       "  <thead>\n",
       "    <tr style=\"text-align: right;\">\n",
       "      <th></th>\n",
       "      <th>Protocol</th>\n",
       "      <th>Protocol Name</th>\n",
       "      <th>Protocol Description</th>\n",
       "    </tr>\n",
       "  </thead>\n",
       "  <tbody>\n",
       "    <tr>\n",
       "      <th>0</th>\n",
       "      <td>6</td>\n",
       "      <td>TCP</td>\n",
       "      <td>This is a connection-oriented protocol which e...</td>\n",
       "    </tr>\n",
       "    <tr>\n",
       "      <th>55</th>\n",
       "      <td>0</td>\n",
       "      <td>Reserved</td>\n",
       "      <td>Some bits or fields in some network protocols ...</td>\n",
       "    </tr>\n",
       "    <tr>\n",
       "      <th>56</th>\n",
       "      <td>17</td>\n",
       "      <td>UDP</td>\n",
       "      <td>This protocol is connectionless and therefore ...</td>\n",
       "    </tr>\n",
       "  </tbody>\n",
       "</table>\n",
       "</div>"
      ],
      "text/plain": [
       "     Protocol Protocol Name                               Protocol Description\n",
       "0           6           TCP  This is a connection-oriented protocol which e...\n",
       "55          0      Reserved  Some bits or fields in some network protocols ...\n",
       "56         17           UDP  This protocol is connectionless and therefore ..."
      ]
     },
     "execution_count": 47,
     "metadata": {},
     "output_type": "execute_result"
    }
   ],
   "source": [
    "protocol_df"
   ]
  },
  {
   "cell_type": "code",
   "execution_count": 48,
   "id": "91bf3b8f-7554-43ff-b515-a1681af1dba2",
   "metadata": {
    "id": "91bf3b8f-7554-43ff-b515-a1681af1dba2"
   },
   "outputs": [],
   "source": [
    "protocol_df['surrogate_key'] = range(1, len(protocol_df) + 1)\n",
    "protocol_df.to_csv('Protocol.csv',index=False)"
   ]
  },
  {
   "cell_type": "code",
   "execution_count": 49,
   "id": "db5168c7",
   "metadata": {},
   "outputs": [
    {
     "data": {
      "text/plain": [
       "False    2671802\n",
       "Name:  Timestamp, dtype: int64"
      ]
     },
     "execution_count": 49,
     "metadata": {},
     "output_type": "execute_result"
    }
   ],
   "source": [
    "df[' Timestamp'].isnull().value_counts()"
   ]
  },
  {
   "cell_type": "code",
   "execution_count": 50,
   "id": "993690b2-6162-469b-939b-a771829be88b",
   "metadata": {
    "colab": {
     "base_uri": "https://localhost:8080/"
    },
    "id": "993690b2-6162-469b-939b-a771829be88b",
    "outputId": "8b03f62a-9190-4f8f-e87c-2a0bb07b9738"
   },
   "outputs": [],
   "source": [
    "date_df=df[[' Timestamp']]\n",
    "date_df=date_df.drop_duplicates()\n",
    "date_df.dropna(inplace=True)"
   ]
  },
  {
   "cell_type": "code",
   "execution_count": 51,
   "id": "Clci00cF4IBN",
   "metadata": {
    "colab": {
     "base_uri": "https://localhost:8080/",
     "height": 146
    },
    "id": "Clci00cF4IBN",
    "outputId": "5e9e4533-c79c-4883-85f9-916a4617efe6"
   },
   "outputs": [
    {
     "data": {
      "text/plain": [
       " Timestamp\n",
       "False         1485\n",
       "dtype: int64"
      ]
     },
     "execution_count": 51,
     "metadata": {},
     "output_type": "execute_result"
    }
   ],
   "source": [
    "date_df.isnull().value_counts()"
   ]
  },
  {
   "cell_type": "code",
   "execution_count": 52,
   "id": "b89b537a-2f16-480b-aa3f-17a677530399",
   "metadata": {
    "id": "b89b537a-2f16-480b-aa3f-17a677530399"
   },
   "outputs": [],
   "source": [
    "date_df[' Timestamp'] = pd.to_datetime(date_df[' Timestamp'])\n",
    "date_df['day']=date_df[' Timestamp'].dt.day\n",
    "date_df['month']=date_df[' Timestamp'].dt.month\n",
    "date_df['year']=date_df[' Timestamp'].dt.year\n",
    "date_df['time']=date_df[' Timestamp'].dt.time"
   ]
  },
  {
   "cell_type": "code",
   "execution_count": 53,
   "id": "Ad261iJn4Wno",
   "metadata": {
    "colab": {
     "base_uri": "https://localhost:8080/",
     "height": 424
    },
    "id": "Ad261iJn4Wno",
    "outputId": "d9b8db54-5cbb-45bd-b52a-518cb97caa23"
   },
   "outputs": [
    {
     "data": {
      "text/html": [
       "<div>\n",
       "<style scoped>\n",
       "    .dataframe tbody tr th:only-of-type {\n",
       "        vertical-align: middle;\n",
       "    }\n",
       "\n",
       "    .dataframe tbody tr th {\n",
       "        vertical-align: top;\n",
       "    }\n",
       "\n",
       "    .dataframe thead th {\n",
       "        text-align: right;\n",
       "    }\n",
       "</style>\n",
       "<table border=\"1\" class=\"dataframe\">\n",
       "  <thead>\n",
       "    <tr style=\"text-align: right;\">\n",
       "      <th></th>\n",
       "      <th>Timestamp</th>\n",
       "      <th>day</th>\n",
       "      <th>month</th>\n",
       "      <th>year</th>\n",
       "      <th>time</th>\n",
       "    </tr>\n",
       "  </thead>\n",
       "  <tbody>\n",
       "    <tr>\n",
       "      <th>0</th>\n",
       "      <td>2017-04-07 08:54:00</td>\n",
       "      <td>7</td>\n",
       "      <td>4</td>\n",
       "      <td>2017</td>\n",
       "      <td>08:54:00</td>\n",
       "    </tr>\n",
       "    <tr>\n",
       "      <th>18</th>\n",
       "      <td>2017-04-07 08:55:00</td>\n",
       "      <td>7</td>\n",
       "      <td>4</td>\n",
       "      <td>2017</td>\n",
       "      <td>08:55:00</td>\n",
       "    </tr>\n",
       "    <tr>\n",
       "      <th>40</th>\n",
       "      <td>2017-04-07 08:53:00</td>\n",
       "      <td>7</td>\n",
       "      <td>4</td>\n",
       "      <td>2017</td>\n",
       "      <td>08:53:00</td>\n",
       "    </tr>\n",
       "    <tr>\n",
       "      <th>49</th>\n",
       "      <td>2017-04-07 08:56:00</td>\n",
       "      <td>7</td>\n",
       "      <td>4</td>\n",
       "      <td>2017</td>\n",
       "      <td>08:56:00</td>\n",
       "    </tr>\n",
       "    <tr>\n",
       "      <th>62</th>\n",
       "      <td>2017-04-07 08:57:00</td>\n",
       "      <td>7</td>\n",
       "      <td>4</td>\n",
       "      <td>2017</td>\n",
       "      <td>08:57:00</td>\n",
       "    </tr>\n",
       "    <tr>\n",
       "      <th>...</th>\n",
       "      <td>...</td>\n",
       "      <td>...</td>\n",
       "      <td>...</td>\n",
       "      <td>...</td>\n",
       "      <td>...</td>\n",
       "    </tr>\n",
       "    <tr>\n",
       "      <th>3024032</th>\n",
       "      <td>2017-05-07 05:06:00</td>\n",
       "      <td>7</td>\n",
       "      <td>5</td>\n",
       "      <td>2017</td>\n",
       "      <td>05:06:00</td>\n",
       "    </tr>\n",
       "    <tr>\n",
       "      <th>3024142</th>\n",
       "      <td>2017-05-07 05:07:00</td>\n",
       "      <td>7</td>\n",
       "      <td>5</td>\n",
       "      <td>2017</td>\n",
       "      <td>05:07:00</td>\n",
       "    </tr>\n",
       "    <tr>\n",
       "      <th>3024232</th>\n",
       "      <td>2017-05-07 05:08:00</td>\n",
       "      <td>7</td>\n",
       "      <td>5</td>\n",
       "      <td>2017</td>\n",
       "      <td>05:08:00</td>\n",
       "    </tr>\n",
       "    <tr>\n",
       "      <th>3038626</th>\n",
       "      <td>2017-05-07 05:10:00</td>\n",
       "      <td>7</td>\n",
       "      <td>5</td>\n",
       "      <td>2017</td>\n",
       "      <td>05:10:00</td>\n",
       "    </tr>\n",
       "    <tr>\n",
       "      <th>3135308</th>\n",
       "      <td>2017-05-07 05:09:00</td>\n",
       "      <td>7</td>\n",
       "      <td>5</td>\n",
       "      <td>2017</td>\n",
       "      <td>05:09:00</td>\n",
       "    </tr>\n",
       "  </tbody>\n",
       "</table>\n",
       "<p>1485 rows × 5 columns</p>\n",
       "</div>"
      ],
      "text/plain": [
       "                  Timestamp  day  month  year      time\n",
       "0       2017-04-07 08:54:00    7      4  2017  08:54:00\n",
       "18      2017-04-07 08:55:00    7      4  2017  08:55:00\n",
       "40      2017-04-07 08:53:00    7      4  2017  08:53:00\n",
       "49      2017-04-07 08:56:00    7      4  2017  08:56:00\n",
       "62      2017-04-07 08:57:00    7      4  2017  08:57:00\n",
       "...                     ...  ...    ...   ...       ...\n",
       "3024032 2017-05-07 05:06:00    7      5  2017  05:06:00\n",
       "3024142 2017-05-07 05:07:00    7      5  2017  05:07:00\n",
       "3024232 2017-05-07 05:08:00    7      5  2017  05:08:00\n",
       "3038626 2017-05-07 05:10:00    7      5  2017  05:10:00\n",
       "3135308 2017-05-07 05:09:00    7      5  2017  05:09:00\n",
       "\n",
       "[1485 rows x 5 columns]"
      ]
     },
     "execution_count": 53,
     "metadata": {},
     "output_type": "execute_result"
    }
   ],
   "source": [
    "date_df"
   ]
  },
  {
   "cell_type": "code",
   "execution_count": 54,
   "id": "09ec0de6-e6e1-4c8f-99ad-1dffb9b06cab",
   "metadata": {
    "id": "09ec0de6-e6e1-4c8f-99ad-1dffb9b06cab"
   },
   "outputs": [],
   "source": [
    "date_df['surrogate_key'] = range(1, len(date_df) + 1)\n",
    "date_df.to_csv('Date.csv',index=False)"
   ]
  },
  {
   "cell_type": "code",
   "execution_count": 55,
   "id": "22665da0-cb54-428e-83a8-8e06c0cba15a",
   "metadata": {
    "colab": {
     "base_uri": "https://localhost:8080/"
    },
    "id": "22665da0-cb54-428e-83a8-8e06c0cba15a",
    "outputId": "a1a94709-0303-4510-94ff-b47a6e6758d4"
   },
   "outputs": [
    {
     "name": "stdout",
     "output_type": "stream",
     "text": [
      "<class 'pandas.core.frame.DataFrame'>\n",
      "Int64Index: 1485 entries, 0 to 3135308\n",
      "Data columns (total 6 columns):\n",
      " #   Column         Non-Null Count  Dtype         \n",
      "---  ------         --------------  -----         \n",
      " 0    Timestamp     1485 non-null   datetime64[ns]\n",
      " 1   day            1485 non-null   int64         \n",
      " 2   month          1485 non-null   int64         \n",
      " 3   year           1485 non-null   int64         \n",
      " 4   time           1485 non-null   object        \n",
      " 5   surrogate_key  1485 non-null   int64         \n",
      "dtypes: datetime64[ns](1), int64(4), object(1)\n",
      "memory usage: 81.2+ KB\n"
     ]
    }
   ],
   "source": [
    "date_df.info()"
   ]
  },
  {
   "cell_type": "code",
   "execution_count": 56,
   "id": "eTJa8nFU2fC_",
   "metadata": {
    "colab": {
     "base_uri": "https://localhost:8080/",
     "height": 89
    },
    "id": "eTJa8nFU2fC_",
    "outputId": "61b1bdea-d8d8-4b88-a754-c881c1d4bfc7"
   },
   "outputs": [
    {
     "data": {
      "text/html": [
       "<div>\n",
       "<style scoped>\n",
       "    .dataframe tbody tr th:only-of-type {\n",
       "        vertical-align: middle;\n",
       "    }\n",
       "\n",
       "    .dataframe tbody tr th {\n",
       "        vertical-align: top;\n",
       "    }\n",
       "\n",
       "    .dataframe thead th {\n",
       "        text-align: right;\n",
       "    }\n",
       "</style>\n",
       "<table border=\"1\" class=\"dataframe\">\n",
       "  <thead>\n",
       "    <tr style=\"text-align: right;\">\n",
       "      <th></th>\n",
       "      <th>Timestamp</th>\n",
       "      <th>day</th>\n",
       "      <th>month</th>\n",
       "      <th>year</th>\n",
       "      <th>time</th>\n",
       "      <th>surrogate_key</th>\n",
       "    </tr>\n",
       "  </thead>\n",
       "  <tbody>\n",
       "    <tr>\n",
       "      <th>0</th>\n",
       "      <td>2017-04-07 08:54:00</td>\n",
       "      <td>7</td>\n",
       "      <td>4</td>\n",
       "      <td>2017</td>\n",
       "      <td>08:54:00</td>\n",
       "      <td>1</td>\n",
       "    </tr>\n",
       "    <tr>\n",
       "      <th>18</th>\n",
       "      <td>2017-04-07 08:55:00</td>\n",
       "      <td>7</td>\n",
       "      <td>4</td>\n",
       "      <td>2017</td>\n",
       "      <td>08:55:00</td>\n",
       "      <td>2</td>\n",
       "    </tr>\n",
       "    <tr>\n",
       "      <th>40</th>\n",
       "      <td>2017-04-07 08:53:00</td>\n",
       "      <td>7</td>\n",
       "      <td>4</td>\n",
       "      <td>2017</td>\n",
       "      <td>08:53:00</td>\n",
       "      <td>3</td>\n",
       "    </tr>\n",
       "    <tr>\n",
       "      <th>49</th>\n",
       "      <td>2017-04-07 08:56:00</td>\n",
       "      <td>7</td>\n",
       "      <td>4</td>\n",
       "      <td>2017</td>\n",
       "      <td>08:56:00</td>\n",
       "      <td>4</td>\n",
       "    </tr>\n",
       "    <tr>\n",
       "      <th>62</th>\n",
       "      <td>2017-04-07 08:57:00</td>\n",
       "      <td>7</td>\n",
       "      <td>4</td>\n",
       "      <td>2017</td>\n",
       "      <td>08:57:00</td>\n",
       "      <td>5</td>\n",
       "    </tr>\n",
       "    <tr>\n",
       "      <th>...</th>\n",
       "      <td>...</td>\n",
       "      <td>...</td>\n",
       "      <td>...</td>\n",
       "      <td>...</td>\n",
       "      <td>...</td>\n",
       "      <td>...</td>\n",
       "    </tr>\n",
       "    <tr>\n",
       "      <th>3024032</th>\n",
       "      <td>2017-05-07 05:06:00</td>\n",
       "      <td>7</td>\n",
       "      <td>5</td>\n",
       "      <td>2017</td>\n",
       "      <td>05:06:00</td>\n",
       "      <td>1481</td>\n",
       "    </tr>\n",
       "    <tr>\n",
       "      <th>3024142</th>\n",
       "      <td>2017-05-07 05:07:00</td>\n",
       "      <td>7</td>\n",
       "      <td>5</td>\n",
       "      <td>2017</td>\n",
       "      <td>05:07:00</td>\n",
       "      <td>1482</td>\n",
       "    </tr>\n",
       "    <tr>\n",
       "      <th>3024232</th>\n",
       "      <td>2017-05-07 05:08:00</td>\n",
       "      <td>7</td>\n",
       "      <td>5</td>\n",
       "      <td>2017</td>\n",
       "      <td>05:08:00</td>\n",
       "      <td>1483</td>\n",
       "    </tr>\n",
       "    <tr>\n",
       "      <th>3038626</th>\n",
       "      <td>2017-05-07 05:10:00</td>\n",
       "      <td>7</td>\n",
       "      <td>5</td>\n",
       "      <td>2017</td>\n",
       "      <td>05:10:00</td>\n",
       "      <td>1484</td>\n",
       "    </tr>\n",
       "    <tr>\n",
       "      <th>3135308</th>\n",
       "      <td>2017-05-07 05:09:00</td>\n",
       "      <td>7</td>\n",
       "      <td>5</td>\n",
       "      <td>2017</td>\n",
       "      <td>05:09:00</td>\n",
       "      <td>1485</td>\n",
       "    </tr>\n",
       "  </tbody>\n",
       "</table>\n",
       "<p>1485 rows × 6 columns</p>\n",
       "</div>"
      ],
      "text/plain": [
       "                  Timestamp  day  month  year      time  surrogate_key\n",
       "0       2017-04-07 08:54:00    7      4  2017  08:54:00              1\n",
       "18      2017-04-07 08:55:00    7      4  2017  08:55:00              2\n",
       "40      2017-04-07 08:53:00    7      4  2017  08:53:00              3\n",
       "49      2017-04-07 08:56:00    7      4  2017  08:56:00              4\n",
       "62      2017-04-07 08:57:00    7      4  2017  08:57:00              5\n",
       "...                     ...  ...    ...   ...       ...            ...\n",
       "3024032 2017-05-07 05:06:00    7      5  2017  05:06:00           1481\n",
       "3024142 2017-05-07 05:07:00    7      5  2017  05:07:00           1482\n",
       "3024232 2017-05-07 05:08:00    7      5  2017  05:08:00           1483\n",
       "3038626 2017-05-07 05:10:00    7      5  2017  05:10:00           1484\n",
       "3135308 2017-05-07 05:09:00    7      5  2017  05:09:00           1485\n",
       "\n",
       "[1485 rows x 6 columns]"
      ]
     },
     "execution_count": 56,
     "metadata": {},
     "output_type": "execute_result"
    }
   ],
   "source": [
    "date_df"
   ]
  },
  {
   "cell_type": "code",
   "execution_count": 52,
   "id": "louUZu2Wf__f",
   "metadata": {
    "id": "louUZu2Wf__f"
   },
   "outputs": [],
   "source": [
    "import pandas as pd"
   ]
  },
  {
   "cell_type": "code",
   "execution_count": 53,
   "id": "19f350ec-da29-4061-9288-4d31f601d619",
   "metadata": {
    "id": "19f350ec-da29-4061-9288-4d31f601d619"
   },
   "outputs": [],
   "source": [
    "mdf=pd.read_csv('modified_daata.csv')"
   ]
  },
  {
   "cell_type": "code",
   "execution_count": 57,
   "id": "70ad6fec-9cd0-40f4-80fa-c516c247a8f1",
   "metadata": {
    "id": "70ad6fec-9cd0-40f4-80fa-c516c247a8f1"
   },
   "outputs": [],
   "source": [
    "fact_df=df.copy()"
   ]
  },
  {
   "cell_type": "code",
   "execution_count": 58,
   "id": "fcb0ad3c",
   "metadata": {},
   "outputs": [],
   "source": [
    "ans=(fact_df==df).any()"
   ]
  },
  {
   "cell_type": "code",
   "execution_count": null,
   "id": "20463a65",
   "metadata": {
    "scrolled": true
   },
   "outputs": [],
   "source": []
  },
  {
   "cell_type": "code",
   "execution_count": 59,
   "id": "de087016-22f8-416d-ac82-a18581e0f121",
   "metadata": {
    "id": "de087016-22f8-416d-ac82-a18581e0f121"
   },
   "outputs": [],
   "source": [
    "fact_df[' Source Port']=fact_df[' Source Port'].astype(str)"
   ]
  },
  {
   "cell_type": "code",
   "execution_count": 60,
   "id": "5f5cd1da-fbb1-4646-aa13-3f249e08bcfd",
   "metadata": {
    "colab": {
     "base_uri": "https://localhost:8080/",
     "height": 176
    },
    "id": "5f5cd1da-fbb1-4646-aa13-3f249e08bcfd",
    "outputId": "9608b483-a119-4f80-98de-9a6eef6b9a8c"
   },
   "outputs": [],
   "source": [
    "fact_df['Source_IP_Port']=fact_df[[' Source IP',' Source Port']].agg(':'.join,axis=1)\n",
    "fact_df['Source_ID_FK']=fact_df['Source_IP_Port'].map(source_df.set_index(['source_ip_prt'])['surrogate_key'])"
   ]
  },
  {
   "cell_type": "code",
   "execution_count": 61,
   "id": "b3b24bd8",
   "metadata": {},
   "outputs": [
    {
     "data": {
      "text/plain": [
       "Index([' Destination IP', ' Destination Port', 'surrogate_key',\n",
       "       'dest_ip_port'],\n",
       "      dtype='object')"
      ]
     },
     "execution_count": 61,
     "metadata": {},
     "output_type": "execute_result"
    }
   ],
   "source": [
    "destination_df.columns"
   ]
  },
  {
   "cell_type": "code",
   "execution_count": 62,
   "id": "4917b14e-f09a-4520-9361-3502f6fc23ab",
   "metadata": {
    "id": "4917b14e-f09a-4520-9361-3502f6fc23ab"
   },
   "outputs": [],
   "source": [
    "fact_df[' Destination Port']=fact_df[' Destination Port'].astype(str)\n",
    "fact_df['Destination_IP_Port']=fact_df[' Destination IP']+\":\"+fact_df[' Destination Port']\n",
    "fact_df['Dest_IP_FK']=fact_df['Destination_IP_Port'].map(destination_df.set_index(['dest_ip_port'])['surrogate_key'])"
   ]
  },
  {
   "cell_type": "code",
   "execution_count": 63,
   "id": "d99da5c0-0842-482d-a2f6-5b8f3e60b20d",
   "metadata": {
    "id": "d99da5c0-0842-482d-a2f6-5b8f3e60b20d"
   },
   "outputs": [],
   "source": [
    "fact_df['Protocol_FK']=fact_df[' Protocol'].map(protocol_df.set_index([' Protocol'])['surrogate_key'])"
   ]
  },
  {
   "cell_type": "code",
   "execution_count": 64,
   "id": "5ad3cb7f-f791-446f-b1e6-ae1ffa3f9094",
   "metadata": {
    "id": "5ad3cb7f-f791-446f-b1e6-ae1ffa3f9094"
   },
   "outputs": [],
   "source": [
    "fact_df['Timestamp_FK']=fact_df[' Timestamp'].map(date_df.set_index([' Timestamp'])['surrogate_key'])"
   ]
  },
  {
   "cell_type": "code",
   "execution_count": 65,
   "id": "4a793c3c",
   "metadata": {},
   "outputs": [],
   "source": [
    "def generate_packet_hash(row):\n",
    "    # Select only the desired columns for hashing\n",
    "    selected_cols = row[[' Total Fwd Packets', ' Total Backward Packets',\n",
    "       'Total Length of Fwd Packets', ' Total Length of Bwd Packets',\n",
    "       ' Fwd Packet Length Max', ' Fwd Packet Length Min',\n",
    "       ' Fwd Packet Length Mean', ' Fwd Packet Length Std','Bwd Packet Length Max', ' Bwd Packet Length Min',\n",
    "       ' Bwd Packet Length Mean', ' Bwd Packet Length Std',' Min Packet Length', ' Max Packet Length',\n",
    "       ' Packet Length Mean', ' Packet Length Std', ' Packet Length Variance',' Average Packet Size']]\n",
    "    \n",
    "    # Convert the selected columns to a string representation\n",
    "    row_str = str(tuple(selected_cols.values))\n",
    "    \n",
    "    # Generate a hash using SHA256\n",
    "    hash_object = hashlib.sha256(row_str.encode())\n",
    "    return hash_object.hexdigest()\n",
    "\n",
    "# Apply the hash function to the packet columns\n",
    "fact_df['Merged_Col'] = fact_df.apply(generate_packet_hash, axis=1)\n",
    "\n",
    "# Map the hash to the corresponding surrogate key from packet_df\n",
    "fact_df['Packet_FK'] = fact_df['Merged_Col'].map(packet_df.set_index('Merged_Col')['surrogate_key'])"
   ]
  },
  {
   "cell_type": "code",
   "execution_count": 66,
   "id": "d8c50089",
   "metadata": {},
   "outputs": [
    {
     "data": {
      "text/html": [
       "<div>\n",
       "<style scoped>\n",
       "    .dataframe tbody tr th:only-of-type {\n",
       "        vertical-align: middle;\n",
       "    }\n",
       "\n",
       "    .dataframe tbody tr th {\n",
       "        vertical-align: top;\n",
       "    }\n",
       "\n",
       "    .dataframe thead th {\n",
       "        text-align: right;\n",
       "    }\n",
       "</style>\n",
       "<table border=\"1\" class=\"dataframe\">\n",
       "  <thead>\n",
       "    <tr style=\"text-align: right;\">\n",
       "      <th></th>\n",
       "      <th>Flow ID</th>\n",
       "      <th>Source IP</th>\n",
       "      <th>Source Port</th>\n",
       "      <th>Destination IP</th>\n",
       "      <th>Destination Port</th>\n",
       "      <th>Protocol</th>\n",
       "      <th>Timestamp</th>\n",
       "      <th>Flow Duration</th>\n",
       "      <th>Total Fwd Packets</th>\n",
       "      <th>Total Backward Packets</th>\n",
       "      <th>...</th>\n",
       "      <th>Idle Min</th>\n",
       "      <th>Label</th>\n",
       "      <th>Source_IP_Port</th>\n",
       "      <th>Source_ID_FK</th>\n",
       "      <th>Destination_IP_Port</th>\n",
       "      <th>Dest_IP_FK</th>\n",
       "      <th>Protocol_FK</th>\n",
       "      <th>Timestamp_FK</th>\n",
       "      <th>Merged_Col</th>\n",
       "      <th>Packet_FK</th>\n",
       "    </tr>\n",
       "  </thead>\n",
       "  <tbody>\n",
       "    <tr>\n",
       "      <th>0</th>\n",
       "      <td>192.168.10.3-192.168.10.5-88-49182-6</td>\n",
       "      <td>192.168.10.5</td>\n",
       "      <td>49182</td>\n",
       "      <td>192.168.10.3</td>\n",
       "      <td>88</td>\n",
       "      <td>6</td>\n",
       "      <td>2017-04-07 08:54:00</td>\n",
       "      <td>640</td>\n",
       "      <td>7.0</td>\n",
       "      <td>4.0</td>\n",
       "      <td>...</td>\n",
       "      <td>0.0</td>\n",
       "      <td>BENIGN</td>\n",
       "      <td>192.168.10.5:49182</td>\n",
       "      <td>1</td>\n",
       "      <td>192.168.10.3:88</td>\n",
       "      <td>1</td>\n",
       "      <td>1</td>\n",
       "      <td>1</td>\n",
       "      <td>a4a086ab6838154eaf0d52f3c6c9c3e00160b7a91bf1ec...</td>\n",
       "      <td>1</td>\n",
       "    </tr>\n",
       "    <tr>\n",
       "      <th>1</th>\n",
       "      <td>192.168.10.3-192.168.10.5-88-49183-6</td>\n",
       "      <td>192.168.10.5</td>\n",
       "      <td>49183</td>\n",
       "      <td>192.168.10.3</td>\n",
       "      <td>88</td>\n",
       "      <td>6</td>\n",
       "      <td>2017-04-07 08:54:00</td>\n",
       "      <td>900</td>\n",
       "      <td>9.0</td>\n",
       "      <td>4.0</td>\n",
       "      <td>...</td>\n",
       "      <td>0.0</td>\n",
       "      <td>BENIGN</td>\n",
       "      <td>192.168.10.5:49183</td>\n",
       "      <td>2</td>\n",
       "      <td>192.168.10.3:88</td>\n",
       "      <td>1</td>\n",
       "      <td>1</td>\n",
       "      <td>1</td>\n",
       "      <td>02364cdfc3db4afd88bc43cfc4d015babe75f99a0405c6...</td>\n",
       "      <td>2</td>\n",
       "    </tr>\n",
       "    <tr>\n",
       "      <th>2</th>\n",
       "      <td>192.168.10.3-192.168.10.5-88-49184-6</td>\n",
       "      <td>192.168.10.5</td>\n",
       "      <td>49184</td>\n",
       "      <td>192.168.10.3</td>\n",
       "      <td>88</td>\n",
       "      <td>6</td>\n",
       "      <td>2017-04-07 08:54:00</td>\n",
       "      <td>1205</td>\n",
       "      <td>7.0</td>\n",
       "      <td>4.0</td>\n",
       "      <td>...</td>\n",
       "      <td>0.0</td>\n",
       "      <td>BENIGN</td>\n",
       "      <td>192.168.10.5:49184</td>\n",
       "      <td>3</td>\n",
       "      <td>192.168.10.3:88</td>\n",
       "      <td>1</td>\n",
       "      <td>1</td>\n",
       "      <td>1</td>\n",
       "      <td>9bd933d56fb1991c9c7df92fb46c6f1b77e4c2db20bd87...</td>\n",
       "      <td>3</td>\n",
       "    </tr>\n",
       "    <tr>\n",
       "      <th>3</th>\n",
       "      <td>192.168.10.3-192.168.10.5-88-49185-6</td>\n",
       "      <td>192.168.10.5</td>\n",
       "      <td>49185</td>\n",
       "      <td>192.168.10.3</td>\n",
       "      <td>88</td>\n",
       "      <td>6</td>\n",
       "      <td>2017-04-07 08:54:00</td>\n",
       "      <td>511</td>\n",
       "      <td>7.0</td>\n",
       "      <td>4.0</td>\n",
       "      <td>...</td>\n",
       "      <td>0.0</td>\n",
       "      <td>BENIGN</td>\n",
       "      <td>192.168.10.5:49185</td>\n",
       "      <td>4</td>\n",
       "      <td>192.168.10.3:88</td>\n",
       "      <td>1</td>\n",
       "      <td>1</td>\n",
       "      <td>1</td>\n",
       "      <td>44bc2b3b8650e23199d4f89e64e6f387b791cacdd901e6...</td>\n",
       "      <td>4</td>\n",
       "    </tr>\n",
       "    <tr>\n",
       "      <th>4</th>\n",
       "      <td>192.168.10.3-192.168.10.5-88-49186-6</td>\n",
       "      <td>192.168.10.5</td>\n",
       "      <td>49186</td>\n",
       "      <td>192.168.10.3</td>\n",
       "      <td>88</td>\n",
       "      <td>6</td>\n",
       "      <td>2017-04-07 08:54:00</td>\n",
       "      <td>773</td>\n",
       "      <td>9.0</td>\n",
       "      <td>4.0</td>\n",
       "      <td>...</td>\n",
       "      <td>0.0</td>\n",
       "      <td>BENIGN</td>\n",
       "      <td>192.168.10.5:49186</td>\n",
       "      <td>5</td>\n",
       "      <td>192.168.10.3:88</td>\n",
       "      <td>1</td>\n",
       "      <td>1</td>\n",
       "      <td>1</td>\n",
       "      <td>9a2c77eceaa0ff591d68940855b039b1d92ee668a38223...</td>\n",
       "      <td>5</td>\n",
       "    </tr>\n",
       "  </tbody>\n",
       "</table>\n",
       "<p>5 rows × 93 columns</p>\n",
       "</div>"
      ],
      "text/plain": [
       "                                Flow ID     Source IP  Source Port  \\\n",
       "0  192.168.10.3-192.168.10.5-88-49182-6  192.168.10.5        49182   \n",
       "1  192.168.10.3-192.168.10.5-88-49183-6  192.168.10.5        49183   \n",
       "2  192.168.10.3-192.168.10.5-88-49184-6  192.168.10.5        49184   \n",
       "3  192.168.10.3-192.168.10.5-88-49185-6  192.168.10.5        49185   \n",
       "4  192.168.10.3-192.168.10.5-88-49186-6  192.168.10.5        49186   \n",
       "\n",
       "   Destination IP  Destination Port   Protocol            Timestamp  \\\n",
       "0    192.168.10.3                88          6  2017-04-07 08:54:00   \n",
       "1    192.168.10.3                88          6  2017-04-07 08:54:00   \n",
       "2    192.168.10.3                88          6  2017-04-07 08:54:00   \n",
       "3    192.168.10.3                88          6  2017-04-07 08:54:00   \n",
       "4    192.168.10.3                88          6  2017-04-07 08:54:00   \n",
       "\n",
       "    Flow Duration   Total Fwd Packets   Total Backward Packets  ...  \\\n",
       "0             640                 7.0                      4.0  ...   \n",
       "1             900                 9.0                      4.0  ...   \n",
       "2            1205                 7.0                      4.0  ...   \n",
       "3             511                 7.0                      4.0  ...   \n",
       "4             773                 9.0                      4.0  ...   \n",
       "\n",
       "    Idle Min   Label      Source_IP_Port  Source_ID_FK  Destination_IP_Port  \\\n",
       "0        0.0  BENIGN  192.168.10.5:49182             1      192.168.10.3:88   \n",
       "1        0.0  BENIGN  192.168.10.5:49183             2      192.168.10.3:88   \n",
       "2        0.0  BENIGN  192.168.10.5:49184             3      192.168.10.3:88   \n",
       "3        0.0  BENIGN  192.168.10.5:49185             4      192.168.10.3:88   \n",
       "4        0.0  BENIGN  192.168.10.5:49186             5      192.168.10.3:88   \n",
       "\n",
       "   Dest_IP_FK  Protocol_FK  Timestamp_FK  \\\n",
       "0           1            1             1   \n",
       "1           1            1             1   \n",
       "2           1            1             1   \n",
       "3           1            1             1   \n",
       "4           1            1             1   \n",
       "\n",
       "                                          Merged_Col  Packet_FK  \n",
       "0  a4a086ab6838154eaf0d52f3c6c9c3e00160b7a91bf1ec...          1  \n",
       "1  02364cdfc3db4afd88bc43cfc4d015babe75f99a0405c6...          2  \n",
       "2  9bd933d56fb1991c9c7df92fb46c6f1b77e4c2db20bd87...          3  \n",
       "3  44bc2b3b8650e23199d4f89e64e6f387b791cacdd901e6...          4  \n",
       "4  9a2c77eceaa0ff591d68940855b039b1d92ee668a38223...          5  \n",
       "\n",
       "[5 rows x 93 columns]"
      ]
     },
     "execution_count": 66,
     "metadata": {},
     "output_type": "execute_result"
    }
   ],
   "source": [
    "fact_df.head()"
   ]
  },
  {
   "cell_type": "code",
   "execution_count": 67,
   "id": "495c9643",
   "metadata": {},
   "outputs": [],
   "source": [
    "def generate_flow_hash(row):\n",
    "    # Select only the desired columns for hashing\n",
    "    selected_cols_flow = row[['Flow ID', ' Flow Duration', 'Flow Bytes/s', ' Flow Packets/s', \n",
    "                         ' Flow IAT Mean', ' Fwd IAT Std', ' Fwd IAT Max', ' Fwd IAT Min']]\n",
    "    \n",
    "    # Convert the selected columns to a string representation\n",
    "    row_str = str(tuple(selected_cols_flow.values))\n",
    "    \n",
    "    # Generate a hash using SHA256\n",
    "    hash_object = hashlib.sha256(row_str.encode())\n",
    "    return hash_object.hexdigest()\n",
    "\n",
    "# Apply the hash function to the flow columns\n",
    "fact_df['Merged_Col'] = fact_df.apply(generate_flow_hash, axis=1)\n",
    "\n",
    "# Map the hash to the corresponding surrogate key from flow_df\n",
    "fact_df['Flow_FK'] = fact_df['Merged_Col'].map(flow_df.set_index('Merged_Col')['surrogate_key'])"
   ]
  },
  {
   "cell_type": "code",
   "execution_count": 68,
   "id": "_YITOmuct4_n",
   "metadata": {
    "id": "_YITOmuct4_n"
   },
   "outputs": [],
   "source": [
    "def generate_flag_hash(row):\n",
    "    # Select only the desired columns for hashing\n",
    "    selected_cols = row[['Fwd PSH Flags',\n",
    "       ' Bwd PSH Flags', ' Fwd URG Flags', ' Bwd URG Flags','FIN Flag Count', ' SYN Flag Count', ' RST Flag Count',\n",
    "       ' PSH Flag Count', ' ACK Flag Count', ' URG Flag Count',\n",
    "       ' CWE Flag Count', ' ECE Flag Count']]\n",
    "    \n",
    "    # Convert the selected columns to a string representation\n",
    "    row_str = str(tuple(selected_cols.values))\n",
    "    \n",
    "    # Generate a hash using SHA256\n",
    "    hash_object = hashlib.sha256(row_str.encode())\n",
    "    return hash_object.hexdigest()\n",
    "\n",
    "# Apply the hash function to the flag columns\n",
    "fact_df['Merged_Col'] = fact_df.apply(generate_flag_hash, axis=1)\n",
    "\n",
    "fact_df['Flag_FK'] = fact_df['Merged_Col'].map(flag_df.set_index('Merged_Col')['surrogate_key'])"
   ]
  },
  {
   "cell_type": "code",
   "execution_count": 69,
   "id": "0e6f1fca",
   "metadata": {},
   "outputs": [
    {
     "data": {
      "text/plain": [
       "Index(['Flow ID', ' Source IP', ' Source Port', ' Destination IP',\n",
       "       ' Destination Port', ' Protocol', ' Timestamp', ' Flow Duration',\n",
       "       ' Total Fwd Packets', ' Total Backward Packets',\n",
       "       'Total Length of Fwd Packets', ' Total Length of Bwd Packets',\n",
       "       ' Fwd Packet Length Max', ' Fwd Packet Length Min',\n",
       "       ' Fwd Packet Length Mean', ' Fwd Packet Length Std',\n",
       "       'Bwd Packet Length Max', ' Bwd Packet Length Min',\n",
       "       ' Bwd Packet Length Mean', ' Bwd Packet Length Std', 'Flow Bytes/s',\n",
       "       ' Flow Packets/s', ' Flow IAT Mean', ' Flow IAT Std', ' Flow IAT Max',\n",
       "       ' Flow IAT Min', 'Fwd IAT Total', ' Fwd IAT Mean', ' Fwd IAT Std',\n",
       "       ' Fwd IAT Max', ' Fwd IAT Min', 'Bwd IAT Total', ' Bwd IAT Mean',\n",
       "       ' Bwd IAT Std', ' Bwd IAT Max', ' Bwd IAT Min', 'Fwd PSH Flags',\n",
       "       ' Bwd PSH Flags', ' Fwd URG Flags', ' Bwd URG Flags',\n",
       "       ' Fwd Header Length', ' Bwd Header Length', 'Fwd Packets/s',\n",
       "       ' Bwd Packets/s', ' Min Packet Length', ' Max Packet Length',\n",
       "       ' Packet Length Mean', ' Packet Length Std', ' Packet Length Variance',\n",
       "       'FIN Flag Count', ' SYN Flag Count', ' RST Flag Count',\n",
       "       ' PSH Flag Count', ' ACK Flag Count', ' URG Flag Count',\n",
       "       ' CWE Flag Count', ' ECE Flag Count', ' Down/Up Ratio',\n",
       "       ' Average Packet Size', ' Avg Fwd Segment Size',\n",
       "       ' Avg Bwd Segment Size', ' Fwd Header Length.1', 'Fwd Avg Bytes/Bulk',\n",
       "       ' Fwd Avg Packets/Bulk', ' Fwd Avg Bulk Rate', ' Bwd Avg Bytes/Bulk',\n",
       "       ' Bwd Avg Packets/Bulk', 'Bwd Avg Bulk Rate', 'Subflow Fwd Packets',\n",
       "       ' Subflow Fwd Bytes', ' Subflow Bwd Packets', ' Subflow Bwd Bytes',\n",
       "       'Init_Win_bytes_forward', ' Init_Win_bytes_backward',\n",
       "       ' act_data_pkt_fwd', ' min_seg_size_forward', 'Active Mean',\n",
       "       ' Active Std', ' Active Max', ' Active Min', 'Idle Mean', ' Idle Std',\n",
       "       ' Idle Max', ' Idle Min', ' Label', 'Source_IP_Port', 'Source_ID_FK',\n",
       "       'Destination_IP_Port', 'Dest_IP_FK', 'Protocol_FK', 'Timestamp_FK',\n",
       "       'Merged_Col', 'Packet_FK', 'Flow_FK', 'Flag_FK'],\n",
       "      dtype='object')"
      ]
     },
     "execution_count": 69,
     "metadata": {},
     "output_type": "execute_result"
    }
   ],
   "source": [
    "fact_df.columns"
   ]
  },
  {
   "cell_type": "code",
   "execution_count": 70,
   "id": "d55f33e0",
   "metadata": {},
   "outputs": [],
   "source": [
    "for x in fact_df.columns:\n",
    "    if fact_df[x].isnull().any()==True:\n",
    "        print(x)\n"
   ]
  },
  {
   "cell_type": "code",
   "execution_count": 71,
   "id": "2e0db251",
   "metadata": {},
   "outputs": [],
   "source": [
    "new_fact_df=fact_df[['Source_ID_FK', 'Dest_IP_FK', 'Protocol_FK', 'Timestamp_FK', 'Packet_FK', 'Flow_FK', 'Flag_FK',' Label']]"
   ]
  },
  {
   "cell_type": "code",
   "execution_count": 72,
   "id": "f6865854",
   "metadata": {},
   "outputs": [
    {
     "data": {
      "text/html": [
       "<div>\n",
       "<style scoped>\n",
       "    .dataframe tbody tr th:only-of-type {\n",
       "        vertical-align: middle;\n",
       "    }\n",
       "\n",
       "    .dataframe tbody tr th {\n",
       "        vertical-align: top;\n",
       "    }\n",
       "\n",
       "    .dataframe thead th {\n",
       "        text-align: right;\n",
       "    }\n",
       "</style>\n",
       "<table border=\"1\" class=\"dataframe\">\n",
       "  <thead>\n",
       "    <tr style=\"text-align: right;\">\n",
       "      <th></th>\n",
       "      <th>Source_ID_FK</th>\n",
       "      <th>Dest_IP_FK</th>\n",
       "      <th>Protocol_FK</th>\n",
       "      <th>Timestamp_FK</th>\n",
       "      <th>Packet_FK</th>\n",
       "      <th>Flow_FK</th>\n",
       "      <th>Flag_FK</th>\n",
       "      <th>Label</th>\n",
       "    </tr>\n",
       "  </thead>\n",
       "  <tbody>\n",
       "    <tr>\n",
       "      <th>0</th>\n",
       "      <td>1</td>\n",
       "      <td>1</td>\n",
       "      <td>1</td>\n",
       "      <td>1</td>\n",
       "      <td>1</td>\n",
       "      <td>1</td>\n",
       "      <td>1</td>\n",
       "      <td>BENIGN</td>\n",
       "    </tr>\n",
       "    <tr>\n",
       "      <th>1</th>\n",
       "      <td>2</td>\n",
       "      <td>1</td>\n",
       "      <td>1</td>\n",
       "      <td>1</td>\n",
       "      <td>2</td>\n",
       "      <td>2</td>\n",
       "      <td>1</td>\n",
       "      <td>BENIGN</td>\n",
       "    </tr>\n",
       "    <tr>\n",
       "      <th>2</th>\n",
       "      <td>3</td>\n",
       "      <td>1</td>\n",
       "      <td>1</td>\n",
       "      <td>1</td>\n",
       "      <td>3</td>\n",
       "      <td>3</td>\n",
       "      <td>1</td>\n",
       "      <td>BENIGN</td>\n",
       "    </tr>\n",
       "    <tr>\n",
       "      <th>3</th>\n",
       "      <td>4</td>\n",
       "      <td>1</td>\n",
       "      <td>1</td>\n",
       "      <td>1</td>\n",
       "      <td>4</td>\n",
       "      <td>4</td>\n",
       "      <td>1</td>\n",
       "      <td>BENIGN</td>\n",
       "    </tr>\n",
       "    <tr>\n",
       "      <th>4</th>\n",
       "      <td>5</td>\n",
       "      <td>1</td>\n",
       "      <td>1</td>\n",
       "      <td>1</td>\n",
       "      <td>5</td>\n",
       "      <td>5</td>\n",
       "      <td>1</td>\n",
       "      <td>BENIGN</td>\n",
       "    </tr>\n",
       "  </tbody>\n",
       "</table>\n",
       "</div>"
      ],
      "text/plain": [
       "   Source_ID_FK  Dest_IP_FK  Protocol_FK  Timestamp_FK  Packet_FK  Flow_FK  \\\n",
       "0             1           1            1             1          1        1   \n",
       "1             2           1            1             1          2        2   \n",
       "2             3           1            1             1          3        3   \n",
       "3             4           1            1             1          4        4   \n",
       "4             5           1            1             1          5        5   \n",
       "\n",
       "   Flag_FK   Label  \n",
       "0        1  BENIGN  \n",
       "1        1  BENIGN  \n",
       "2        1  BENIGN  \n",
       "3        1  BENIGN  \n",
       "4        1  BENIGN  "
      ]
     },
     "execution_count": 72,
     "metadata": {},
     "output_type": "execute_result"
    }
   ],
   "source": [
    "new_fact_df.head()"
   ]
  },
  {
   "cell_type": "code",
   "execution_count": 73,
   "id": "eab03632",
   "metadata": {},
   "outputs": [],
   "source": [
    "new_fact_df.to_csv('fact_table.csv')"
   ]
  },
  {
   "cell_type": "code",
   "execution_count": 74,
   "id": "0acaaa5b",
   "metadata": {},
   "outputs": [
    {
     "data": {
      "text/plain": [
       "2671802"
      ]
     },
     "execution_count": 74,
     "metadata": {},
     "output_type": "execute_result"
    }
   ],
   "source": [
    "len(new_fact_df)"
   ]
  },
  {
   "cell_type": "code",
   "execution_count": null,
   "id": "cf768250",
   "metadata": {},
   "outputs": [],
   "source": [
    "fact_table_df=pd.read_csv('fact_table.csv')\n",
    "fact_table_df"
   ]
  },
  {
   "cell_type": "code",
   "execution_count": 76,
   "id": "ce3592ab",
   "metadata": {},
   "outputs": [],
   "source": [
    "new_fact_df_1=new_fact_df[:900000]\n",
    "new_fact_df_1.to_csv('fact_table_1.csv')"
   ]
  },
  {
   "cell_type": "code",
   "execution_count": 77,
   "id": "80c6f2ef",
   "metadata": {},
   "outputs": [],
   "source": [
    "new_fact_df_2=new_fact_df[900000:1800000]\n",
    "new_fact_df_2.to_csv('fact_table_2.csv')"
   ]
  },
  {
   "cell_type": "code",
   "execution_count": 78,
   "id": "856054cc",
   "metadata": {},
   "outputs": [],
   "source": [
    "new_fact_df_3=new_fact_df[1800000:]\n",
    "new_fact_df_3.to_csv('fact_table_3.csv')"
   ]
  },
  {
   "cell_type": "code",
   "execution_count": 79,
   "id": "c83c6c11",
   "metadata": {},
   "outputs": [
    {
     "data": {
      "text/plain": [
       "1921280"
      ]
     },
     "execution_count": 79,
     "metadata": {},
     "output_type": "execute_result"
    }
   ],
   "source": [
    "len(flow_df)"
   ]
  },
  {
   "cell_type": "code",
   "execution_count": 81,
   "id": "2f72cad6",
   "metadata": {},
   "outputs": [],
   "source": [
    "flow_df_1=flow_df[:400000]\n",
    "flow_df_1.to_csv('flow_1.csv')"
   ]
  },
  {
   "cell_type": "code",
   "execution_count": 82,
   "id": "b843a7b0",
   "metadata": {},
   "outputs": [],
   "source": [
    "flow_df_2=flow_df[400000:800000]\n",
    "flow_df_3=flow_df[800000:1200000]\n",
    "flow_df_4=flow_df[1200000:1600000]\n",
    "flow_df_5=flow_df[1600000:]"
   ]
  },
  {
   "cell_type": "code",
   "execution_count": 83,
   "id": "89825db9",
   "metadata": {},
   "outputs": [],
   "source": [
    "flow_df_2.to_csv('flow_2.csv')"
   ]
  },
  {
   "cell_type": "code",
   "execution_count": 84,
   "id": "7b3d4a0e",
   "metadata": {},
   "outputs": [],
   "source": [
    "flow_df_3.to_csv('flow_3.csv')\n",
    "flow_df_4.to_csv('flow_4.csv')\n",
    "flow_df_5.to_csv('flow_5.csv')"
   ]
  },
  {
   "cell_type": "code",
   "execution_count": null,
   "id": "a7c307bf",
   "metadata": {},
   "outputs": [],
   "source": []
  }
 ],
 "metadata": {
  "colab": {
   "provenance": []
  },
  "kernelspec": {
   "display_name": "amd_gpu",
   "language": "python",
   "name": "amd_gpu"
  },
  "language_info": {
   "codemirror_mode": {
    "name": "ipython",
    "version": 3
   },
   "file_extension": ".py",
   "mimetype": "text/x-python",
   "name": "python",
   "nbconvert_exporter": "python",
   "pygments_lexer": "ipython3",
   "version": "3.9.13"
  }
 },
 "nbformat": 4,
 "nbformat_minor": 5
}
